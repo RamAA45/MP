{
 "cells": [
  {
   "cell_type": "code",
   "execution_count": 1,
   "id": "3adec799-752f-4cf6-a321-860feef3a09e",
   "metadata": {},
   "outputs": [
    {
     "name": "stdout",
     "output_type": "stream",
     "text": [
      "Full Formula (Si8)\n",
      "Reduced Formula: Si\n",
      "abc   :   1.000000   1.000000   1.000000\n",
      "angles:  90.000000  90.000000  90.000000\n",
      "pbc   :       True       True       True\n",
      "Sites (8)\n",
      "  #  SP       a     b     c\n",
      "---  ----  ----  ----  ----\n",
      "  0  Si    0.75  0.75  0.25\n",
      "  1  Si    0.25  0.75  0.75\n",
      "  2  Si    0.75  0.25  0.75\n",
      "  3  Si    0.25  0.25  0.25\n",
      "  4  Si    0.5   0     0.5\n",
      "  5  Si    0.5   0.5   0\n",
      "  6  Si    0     0     0\n",
      "  7  Si    0     0.5   0.5\n"
     ]
    }
   ],
   "source": [
    "from pymatgen.io.vasp import Poscar\n",
    "\n",
    "# Replace 'POSCAR' with the path to your POSCAR file\n",
    "poscar = Poscar.from_file('/home/ram/Desktop/VESTA-gtk3-x86_64/Vesta  files/Si.vasp')\n",
    "\n",
    "# Access structure object\n",
    "structure = poscar.structure\n",
    "\n",
    "print(structure)"
   ]
  },
  {
   "cell_type": "code",
   "execution_count": 2,
   "id": "51b3d021-f098-46a4-81d9-cada5dec6331",
   "metadata": {},
   "outputs": [
    {
     "data": {
      "text/plain": [
       "New structure\n",
       "1.0\n",
       "   1.0000000000000000    0.0000000000000000    0.0000000000000000\n",
       "   0.0000000000000000    1.0000000000000000    0.0000000000000000\n",
       "   0.0000000000000000    0.0000000000000000    1.0000000000000000\n",
       "Si\n",
       "8\n",
       "direct\n",
       "   0.7500000000000000    0.7500000000000000    0.2500000000000000 Si\n",
       "   0.2500000000000000    0.7500000000000000    0.7500000000000000 Si\n",
       "   0.7500000000000000    0.2500000000000000    0.7500000000000000 Si\n",
       "   0.2500000000000000    0.2500000000000000    0.2500000000000000 Si\n",
       "   0.5000000000000000    0.0000000000000000    0.5000000000000000 Si\n",
       "   0.5000000000000000    0.5000000000000000    0.0000000000000000 Si\n",
       "   0.0000000000000000    0.0000000000000000    0.0000000000000000 Si\n",
       "   0.0000000000000000    0.5000000000000000    0.5000000000000000 Si"
      ]
     },
     "execution_count": 2,
     "metadata": {},
     "output_type": "execute_result"
    }
   ],
   "source": [
    "poscar"
   ]
  },
  {
   "cell_type": "code",
   "execution_count": 11,
   "id": "41189912-c912-49ce-bebd-86c0c93d7578",
   "metadata": {},
   "outputs": [],
   "source": [
    "from pymatgen.io.vasp import Poscar\n",
    "from pymatgen.symmetry.analyzer import SpacegroupAnalyzer\n",
    "\n",
    "# Read the structure from the existing POSCAR file\n",
    "poscar = Poscar.from_file('/home/ram/Desktop/VESTA-gtk3-x86_64/Vesta  files/Si.vasp')\n",
    "\n",
    "# Get the structure\n",
    "structure = poscar.structure\n",
    "\n",
    "# Generate the primitive cell\n",
    "primitive_structure = SpacegroupAnalyzer(structure).get_primitive_standard_structure()\n",
    "\n",
    "# Write the primitive cell to a new POSCAR file\n",
    "primitive_poscar = Poscar(primitive_structure)\n",
    "primitive_poscar.write_file('primitive_POSCAR')\n"
   ]
  },
  {
   "cell_type": "code",
   "execution_count": 12,
   "id": "535390bd-92e2-4027-b692-2cb968582e45",
   "metadata": {},
   "outputs": [
    {
     "data": {
      "text/plain": [
       "Si2\n",
       "1.0\n",
       "   0.0000000000000001    0.5000000000000000    0.5000000000000000\n",
       "   0.5000000000000000    0.0000000000000000    0.5000000000000000\n",
       "   0.5000000000000001    0.5000000000000000    0.0000000000000001\n",
       "Si\n",
       "2\n",
       "direct\n",
       "   0.2500000000000000    0.2499999999999998    0.2500000000000000 Si\n",
       "   0.0000000000000000    0.0000000000000000    0.0000000000000000 Si"
      ]
     },
     "execution_count": 12,
     "metadata": {},
     "output_type": "execute_result"
    }
   ],
   "source": [
    "primitive_poscar"
   ]
  },
  {
   "cell_type": "code",
   "execution_count": null,
   "id": "404d3794-638a-4197-b4c5-95de5102422b",
   "metadata": {},
   "outputs": [],
   "source": []
  }
 ],
 "metadata": {
  "kernelspec": {
   "display_name": "Python 3 (ipykernel)",
   "language": "python",
   "name": "python3"
  },
  "language_info": {
   "codemirror_mode": {
    "name": "ipython",
    "version": 3
   },
   "file_extension": ".py",
   "mimetype": "text/x-python",
   "name": "python",
   "nbconvert_exporter": "python",
   "pygments_lexer": "ipython3",
   "version": "3.10.12"
  }
 },
 "nbformat": 4,
 "nbformat_minor": 5
}
